{
 "cells": [
  {
   "cell_type": "code",
   "execution_count": 1,
   "metadata": {},
   "outputs": [],
   "source": [
    "import math \n",
    "from PIL import Image\n",
    "import numpy as np\n",
    "from pylab import *\n",
    "import matplotlib.cm as cm\n",
    "import scipy as sp\n",
    "import random\n",
    "from collections import defaultdict\n",
    "import operator\n",
    "from skimage import io,color\n",
    "import cv2\n",
    "import sys"
   ]
  },
  {
   "cell_type": "code",
   "execution_count": 12,
   "metadata": {},
   "outputs": [],
   "source": [
    "img=cv2.imread(\"./Input/1.png\",0)"
   ]
  },
  {
   "cell_type": "code",
   "execution_count": 13,
   "metadata": {},
   "outputs": [
    {
     "data": {
      "text/plain": [
       "<matplotlib.image.AxesImage at 0x10a4f8d10>"
      ]
     },
     "execution_count": 13,
     "metadata": {},
     "output_type": "execute_result"
    },
    {
     "data": {
      "image/png": "[encoded data removed]",
      "text/plain": [
       "<Figure size 432x288 with 1 Axes>"
      ]
     },
     "metadata": {
      "needs_background": "light"
     },
     "output_type": "display_data"
    }
   ],
   "source": [
    "io.imshow(img)"
   ]
  },
  {
   "cell_type": "code",
   "execution_count": 14,
   "metadata": {},
   "outputs": [],
   "source": [
    "blur = cv2.GaussianBlur(img,(5,5),0)\n",
    "ret3,grayImage = cv2.threshold(blur,0,255,cv2.THRESH_BINARY+cv2.THRESH_OTSU)"
   ]
  },
  {
   "cell_type": "code",
   "execution_count": 15,
   "metadata": {},
   "outputs": [
    {
     "data": {
      "text/plain": [
       "<matplotlib.image.AxesImage at 0x1269b46d0>"
      ]
     },
     "execution_count": 15,
     "metadata": {},
     "output_type": "execute_result"
    },
    {
     "data": {
      "image/png": "[encoded data removed]",
      "text/plain": [
       "<Figure size 432x288 with 1 Axes>"
      ]
     },
     "metadata": {
      "needs_background": "light"
     },
     "output_type": "display_data"
    }
   ],
   "source": [
    "io.imshow(grayImage)"
   ]
  },
  {
   "cell_type": "code",
   "execution_count": 16,
   "metadata": {},
   "outputs": [],
   "source": [
    "def encircle(image):\n",
    "    \n",
    "    row=image.shape[0]\n",
    "    col=image.shape[1]\n",
    "    outImg=[[[0,0,0] for i in range(col)] for j in range(row)]\n",
    "    left=[0,100000]\n",
    "    right=[0,-1]\n",
    "    top=[100000,0]\n",
    "    bottom=[-1,0]\n",
    "    \n",
    "    for i in range(row):\n",
    "        for j in range(col):\n",
    "            if image[i][j]==255:\n",
    "                if j>=right[1]:\n",
    "                    right=[i,j+1]\n",
    "                if j<=left[1]:\n",
    "                    left=[i,j-1]\n",
    "                if i<=top[0]:\n",
    "                    top=[i-1,j]\n",
    "                if i>=bottom[0]:\n",
    "                    bottom=[i+1,j]\n",
    "                    \n",
    "#             print(i,j)\n",
    "            outImg[i][j]=[image[i][j],image[i][j],image[i][j]]\n",
    "                \n",
    "            \n",
    "    outImg[right[0]][right[1]]=[255,0,0]\n",
    "    outImg[left[0]][left[1]]=[255,0,0]\n",
    "    outImg[top[0]][top[1]]=[255,0,0]\n",
    "    outImg[bottom[0]][bottom[1]]=[255,0,0]\n",
    "    \n",
    "    \n",
    "    center=[]\n",
    "    minDist=float(\"inf\")\n",
    "    for i in range(top[0],bottom[0]+1):\n",
    "        for j in range(left[1],right[1]):\n",
    "            maxDist=float(\"-inf\")\n",
    "            dr=sqrt(pow(i-right[0],2)+pow(j-right[1],2))\n",
    "            dt=sqrt(pow(i-top[0],2)+pow(j-top[1],2))\n",
    "            dl=sqrt(pow(i-left[0],2)+pow(j-left[1],2))\n",
    "            db=sqrt(pow(i-bottom[0],2)+pow(j-bottom[1],2))\n",
    "            maxDist=max(maxDist,max(dr,max(dt,max(dl,db))))\n",
    "            if maxDist<minDist:\n",
    "                minDist=maxDist\n",
    "                center=[i,j]\n",
    "    minDist=int(minDist)\n",
    "    for i in range(row):\n",
    "        for j in range(col):\n",
    "            dist=int(sqrt(pow(i-center[0],2)+pow(j-center[1],2)))\n",
    "            if dist==minDist:\n",
    "                outImg[i][j]=[255,0,0]\n",
    "    \n",
    "    outImg[center[0]][center[1]]=[255,0,0]\n",
    "    outImg[center[0]+1][center[1]]=[255,0,0]\n",
    "    outImg[center[0]-1][center[1]]=[255,0,0]\n",
    "    outImg[center[0]][center[1]+1]=[255,0,0]\n",
    "    outImg[center[0]][center[1]-1]=[255,0,0]\n",
    "    outImg[center[0]+1][center[1]+1]=[255,0,0]\n",
    "    outImg[center[0]+1][center[1]-1]=[255,0,0]\n",
    "    outImg[center[0]-1][center[1]-1]=[255,0,0]\n",
    "    outImg[center[0]-1][center[1]+1]=[255,0,0]\n",
    "    outImg=np.asarray(outImg,dtype=uint8)\n",
    "    return outImg\n",
    "    "
   ]
  },
  {
   "cell_type": "code",
   "execution_count": 17,
   "metadata": {},
   "outputs": [
    {
     "data": {
      "text/plain": [
       "<matplotlib.image.AxesImage at 0x126e34510>"
      ]
     },
     "execution_count": 17,
     "metadata": {},
     "output_type": "execute_result"
    },
    {
     "data": {
      "image/png": "[encoded data removed]",
      "text/plain": [
       "<Figure size 432x288 with 1 Axes>"
      ]
     },
     "metadata": {
      "needs_background": "light"
     },
     "output_type": "display_data"
    }
   ],
   "source": [
    "io.imshow(encircle(grayImage))"
   ]
  },
  {
   "cell_type": "code",
   "execution_count": 20,
   "metadata": {},
   "outputs": [],
   "source": [
    "names=[\"./Input/1.png\",\"./Input/2.png\",\"Input/3.png\"]\n",
    "# ,\"Input/3.png\",\"Input/4.png\",\"Input/5.png\"]"
   ]
  },
  {
   "cell_type": "code",
   "execution_count": 21,
   "metadata": {},
   "outputs": [],
   "source": [
    "for i in range(len(names)):\n",
    "    st=names[i]\n",
    "    inp=cv2.imread(st,0)\n",
    "    blur = cv2.GaussianBlur(inp,(5,5),0)\n",
    "    ret3,gray = cv2.threshold(blur,0,255,cv2.THRESH_BINARY+cv2.THRESH_OTSU)\n",
    "\n",
    "    output=encircle(gray)\n",
    "    plt.imsave('./Output/'+str(i+1)+'.png',output)"
   ]
  },
  {
   "cell_type": "code",
   "execution_count": null,
   "metadata": {},
   "outputs": [],
   "source": []
  }
 ],
 "metadata": {
  "kernelspec": {
   "display_name": "Python 3",
   "language": "python",
   "name": "python3"
  },
  "language_info": {
   "codemirror_mode": {
    "name": "ipython",
    "version": 3
   },
   "file_extension": ".py",
   "mimetype": "text/x-python",
   "name": "python",
   "nbconvert_exporter": "python",
   "pygments_lexer": "ipython3",
   "version": "3.7.6"
  }
 },
 "nbformat": 4,
 "nbformat_minor": 2
}
