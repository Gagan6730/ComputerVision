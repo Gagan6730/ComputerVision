{
 "cells": [
  {
   "cell_type": "code",
   "execution_count": 32,
   "metadata": {},
   "outputs": [],
   "source": [
    "import math \n",
    "from PIL import Image\n",
    "import numpy as np\n",
    "from pylab import *\n",
    "import matplotlib.cm as cm\n",
    "import scipy as sp\n",
    "import random\n",
    "from collections import defaultdict\n",
    "import operator\n",
    "from skimage import io,color\n",
    "import cv2\n",
    "import sys"
   ]
  },
  {
   "cell_type": "code",
   "execution_count": 33,
   "metadata": {},
   "outputs": [],
   "source": [
    "class SuperPixels(object):\n",
    "\n",
    "    def __init__(self, h, w, l=0, a=0, b=0):\n",
    "        self.update(h, w, l, a, b)\n",
    "        self.pixels = []\n",
    "\n",
    "    def update(self, h, w, l, a, b):\n",
    "        self.h = h\n",
    "        self.w = w\n",
    "        self.l = l\n",
    "        self.a = a\n",
    "        self.b = b"
   ]
  },
  {
   "cell_type": "code",
   "execution_count": 34,
   "metadata": {},
   "outputs": [],
   "source": [
    "def initClusters(S,img,img_h,img_w,clusters):\n",
    "    h = S // 2\n",
    "    w = S // 2\n",
    "    while h < img_h:\n",
    "        while w < img_w:\n",
    "            clusters.append(SuperPixels(h, w,img[h,w][0],img[h,w][1],img[h,w][2]))\n",
    "            w += S\n",
    "        w = S // 2\n",
    "        h += S\n",
    "    return clusters\n",
    "\n",
    "def assign(clusters,S,img,img_h,img_w,tag,dis):\n",
    "    for c in clusters:\n",
    "        for h in range(c.h - 2 * S, c.h + 2 * S):\n",
    "            if h < 0 or h >= img_h: continue\n",
    "            for w in range(c.w - 2 * S, c.w + 2 * S):\n",
    "                if w < 0 or w >= img_w: continue\n",
    "                l, a, b = img[h,w]\n",
    "                Dc = math.sqrt(math.pow(l - c.l, 2) + math.pow(a - c.a, 2) + math.pow(b - c.b, 2))\n",
    "                Ds = math.sqrt(math.pow(h - c.h, 2) + math.pow(w - c.w, 2))\n",
    "                D = math.sqrt(math.pow(Dc / m, 2) + math.pow(Ds /S, 2))\n",
    "                if D < dis[h,w]:\n",
    "                    if (h, w) not in tag:\n",
    "                        tag[(h, w)] = c\n",
    "                        c.pixels.append((h, w))\n",
    "                    else:\n",
    "                        tag[(h, w)].pixels.remove((h, w))\n",
    "                        tag[(h, w)] = c\n",
    "                        c.pixels.append((h, w))\n",
    "                    dis[h, w] = D\n"
   ]
  },
  {
   "cell_type": "code",
   "execution_count": 38,
   "metadata": {},
   "outputs": [],
   "source": [
    "def slic(S,img,img_h,img_w,clusters,tag,dis):\n",
    "    clusters = initClusters(S,img,img_h,img_w,clusters)\n",
    "    for i in range(10):\n",
    "        assign(clusters,S,img,img_h,img_w,tag,dis)\n",
    "        for c in clusters:\n",
    "            sum_h = sum_w = number = 0\n",
    "            for p in c.pixels:\n",
    "                sum_h += p[0]\n",
    "                sum_w += p[1]\n",
    "                number += 1\n",
    "                H = sum_h // number\n",
    "                W = sum_w // number\n",
    "                c.update(H, W,image[H, W][0], image[H, W][1], image[H, W][2])\n",
    "        if i == 9 :\n",
    "            name = './Output/Q5.png'\n",
    "            output = np.copy(img)\n",
    "            for c in clusters:\n",
    "                for p in c.pixels:\n",
    "                    output[p[0],p[1]][0] = c.l\n",
    "                    output[p[0],p[1]][1] = c.a\n",
    "                    output[p[0],p[1]][2] = c.b\n",
    "                # To change the color of cluster center to Black\n",
    "                output[c.h, c.w][0] = 255\n",
    "                output[c.h, c.w][1] = 0\n",
    "                output[c.h, c.w][2] = 0\n",
    "            rgb_arr = color.lab2rgb(output)\n",
    "            io.imsave(name, rgb_arr)\n",
    "            io.imshow(np.asarray(rgb_arr))\n",
    "    return clusters"
   ]
  },
  {
   "cell_type": "code",
   "execution_count": 39,
   "metadata": {},
   "outputs": [],
   "source": [
    "image=Image.open('./Images/gagan.jpg')\n",
    "image=image.resize((400,400))\n",
    "image=np.asarray(image)\n",
    "image = color.rgb2lab(image)\n",
    "N=image.shape[0]*image.shape[1]\n",
    "K=100\n",
    "S=int(sqrt(N/K))\n",
    "m=20\n",
    "\n",
    "clusters = []\n",
    "center_assign = {}\n",
    "distance = np.full((400,400), np.inf)"
   ]
  },
  {
   "cell_type": "code",
   "execution_count": 40,
   "metadata": {},
   "outputs": [
    {
     "name": "stderr",
     "output_type": "stream",
     "text": [
      "Lossy conversion from float64 to uint8. Range [0, 1]. Convert image to uint8 prior to saving to suppress this warning.\n"
     ]
    },
    {
     "data": {
      "image/png": "[encoded data removed]",
      "text/plain": [
       "<Figure size 432x288 with 1 Axes>"
      ]
     },
     "metadata": {
      "needs_background": "light"
     },
     "output_type": "display_data"
    }
   ],
   "source": [
    "cluster = slic(S,image,400,400,clusters,center_assign,distance)"
   ]
  },
  {
   "cell_type": "code",
   "execution_count": null,
   "metadata": {},
   "outputs": [],
   "source": []
  }
 ],
 "metadata": {
  "kernelspec": {
   "display_name": "Python 3",
   "language": "python",
   "name": "python3"
  },
  "language_info": {
   "codemirror_mode": {
    "name": "ipython",
    "version": 3
   },
   "file_extension": ".py",
   "mimetype": "text/x-python",
   "name": "python",
   "nbconvert_exporter": "python",
   "pygments_lexer": "ipython3",
   "version": "3.7.6"
  }
 },
 "nbformat": 4,
 "nbformat_minor": 2
}
